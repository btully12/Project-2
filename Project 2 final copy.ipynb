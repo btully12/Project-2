{
 "cells": [
  {
   "cell_type": "code",
   "execution_count": null,
   "id": "ac9d7ade",
   "metadata": {},
   "outputs": [
    {
     "name": "stdout",
     "output_type": "stream",
     "text": [
      "The Jackpot is currently $125500000 Million. Insert $2 to play (type 2 to play or 0 to leave): 2\n",
      "Pick 5 numbers from 1 to 69:   \n",
      "1st number: 34\n",
      "2nd number: 54\n",
      "3rd number: 25\n",
      "4th number: 12\n",
      "5th number: 22\n",
      "  \n",
      "Now choose a 6th Powerball number from 1 to 26\n",
      "Powerball number: 18\n",
      "Your numbers are (34, 54, 25, 12, 22, 18)\n",
      " \n",
      "The lottery numbers drawn are:  [9, 19, 8, 21, 32, [10]]\n",
      "Nope. LOSER ALERT. You have wasted $2 on the lottery\n"
     ]
    }
   ],
   "source": [
    "import random  #import the random library to allow the computer to generate the actual lottery numbers\n",
    "\n",
    "\n",
    "\n",
    "amount_spent=0     #counter for the amount of money the user has spent playing the game\n",
    "jackpot=125500000  #jackpot for the powerball\n",
    "\n",
    "while True: \n",
    "    start=int(input(f\"The Jackpot is currently ${jackpot} Million. Insert $2 to play (type 2 to play or 0 to leave): \")) #Gives the user the ability to 'insert' 2 dollars to play or leave\n",
    "    if start==0:\n",
    "        print(' ')\n",
    "        print(\"Bye! and No the game is not rigged!\")\n",
    "        break\n",
    "    if start==2:    #when user 'inserts' 2 dollars\n",
    "        print(\"Pick 5 numbers from 1 to 69:   \")\n",
    "        amount_spent=amount_spent+2    #adds 2 dollars to the amount_spent counter\n",
    "        jackpot=amount_spent+jackpot   #adds the amount_spent to the total jackpot\n",
    "    pick=list([])\n",
    "\n",
    "    while start==2:  #after the condition of 2 dollars being 'inserted' is check, it will prompt you for your numbers\n",
    "        one=int(input(\"1st number: \"))\n",
    "        two=int(input(\"2nd number: \"))\n",
    "        three=int(input(\"3rd number: \"))\n",
    "        four=int(input(\"4th number: \"))\n",
    "        five=int(input(\"5th number: \")) \n",
    "        break\n",
    "\n",
    "\n",
    "    print('  ')    \n",
    "    print(\"Now choose a 6th Powerball number from 1 to 26\")\n",
    "    six=int(input(\"Powerball number: \"))   #this allows the user to choose the powerball number\n",
    "    pick=one,two,three,four,five,six     #this takes the individual input numbers above and puts them into a list format\n",
    "\n",
    "    print(\"Your numbers are\",pick) #displays the numbers that you picked\n",
    "\n",
    "    print(' ')\n",
    "    cpu_pick=[random.randint(1,69) for i in range(5)]  #using random, cpu generates 5 random numbers between 1-69 for the lottery picks and then a 6th powerball number\n",
    "    cpu_power=[random.randint(1,26) for i in range(1)] \n",
    "    cpu_pick.append(cpu_power)  #adds the powerball number to the lottery pick list\n",
    "    \n",
    "    \n",
    "    \n",
    "    print(\"The lottery numbers drawn are: \", cpu_pick)  #prints the lottery picks\n",
    "    if pick==cpu_pick: \n",
    "        print(f\"CONGRATULATIONS!!!!!! YOU WON THE POWERBALL of ${jackpot} Million\")  #the result if your numbers match the lottery numbers\n",
    "    else: \n",
    "        print(f\"Nope. LOSER ALERT. You have wasted ${amount_spent} on the lottery\")  #the result if your numbers do not match the lottery numbers\n",
    "        x=input(\"Do you want to play again? Come on, you will surely win the next one(Y or N): \")  #prompts the user to either play again or quit playing\n",
    "        if x==\"N\":\n",
    "            break\n",
    "        else:\n",
    "            start  #restarts the loop\n",
    "            \n",
    "        \n",
    "\n",
    "\n",
    "\n",
    "          "
   ]
  },
  {
   "cell_type": "markdown",
   "id": "a8a71ece",
   "metadata": {},
   "source": []
  },
  {
   "cell_type": "code",
   "execution_count": null,
   "id": "4b05b921",
   "metadata": {},
   "outputs": [],
   "source": [
    "\n",
    "\n"
   ]
  },
  {
   "cell_type": "code",
   "execution_count": null,
   "id": "9e6d2894",
   "metadata": {},
   "outputs": [],
   "source": []
  }
 ],
 "metadata": {
  "kernelspec": {
   "display_name": "Python 3",
   "language": "python",
   "name": "python3"
  },
  "language_info": {
   "codemirror_mode": {
    "name": "ipython",
    "version": 3
   },
   "file_extension": ".py",
   "mimetype": "text/x-python",
   "name": "python",
   "nbconvert_exporter": "python",
   "pygments_lexer": "ipython3",
   "version": "3.8.8"
  }
 },
 "nbformat": 4,
 "nbformat_minor": 5
}
